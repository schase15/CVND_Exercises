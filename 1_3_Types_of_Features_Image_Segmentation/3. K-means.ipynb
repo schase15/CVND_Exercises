{
 "cells": [
  {
   "cell_type": "markdown",
   "metadata": {},
   "source": [
    "# K-means Clustering"
   ]
  },
  {
   "cell_type": "markdown",
   "metadata": {},
   "source": [
    "### Import resources and display image"
   ]
  },
  {
   "cell_type": "code",
   "execution_count": null,
   "metadata": {},
   "outputs": [],
   "source": [
    "import numpy as np\n",
    "import matplotlib.pyplot as plt\n",
    "import cv2\n",
    "\n",
    "%matplotlib inline\n",
    "\n",
    "# Read in the image\n",
    "## TODO: Check out the images directory to see other images you can work with\n",
    "# And select one!\n",
    "image = cv2.imread('images/monarch.jpg')\n",
    "\n",
    "# Change color to RGB (from BGR)\n",
    "image = cv2.cvtColor(image, cv2.COLOR_BGR2RGB)\n",
    "\n",
    "plt.imshow(image)"
   ]
  },
  {
   "cell_type": "markdown",
   "metadata": {},
   "source": [
    "### Prepare data for k-means"
   ]
  },
  {
   "cell_type": "code",
   "execution_count": null,
   "metadata": {},
   "outputs": [],
   "source": [
    "# Reshape image into a 2D array of pixels and 3 color values (RGB)\n",
    "# input (# of pixels, # of color channels)\n",
    "pixel_vals = image.reshape((-1,3))\n",
    "\n",
    "# Convert to float type - for kmeans\n",
    "pixel_vals = np.float32(pixel_vals)"
   ]
  },
  {
   "cell_type": "markdown",
   "metadata": {},
   "source": [
    "### Implement k-means clustering"
   ]
  },
  {
   "cell_type": "code",
   "execution_count": null,
   "metadata": {},
   "outputs": [],
   "source": [
    "# define stopping criteria\n",
    "# Input (100 is max # iterations, 0.2 is amount the center must move to iterate again)\n",
    "criteria = (cv2.TERM_CRITERIA_EPS + cv2.TERM_CRITERIA_MAX_ITER, 100, 0.2)\n",
    "\n",
    "# Select a value for k then perform k-means clustering\n",
    "# Input (converted pixel values, k, labels, stop criteria, # of attempts, how we coose initial center points)\n",
    "k = 3\n",
    "retval, labels, centers = cv2.kmeans(pixel_vals, k, None, criteria, 10, cv2.KMEANS_RANDOM_CENTERS)\n",
    "\n",
    "# convert data back into 8-bit values\n",
    "centers = np.uint8(centers)\n",
    "segmented_data = centers[labels.flatten()]\n",
    "\n",
    "# reshape data back into the original image dimensions\n",
    "segmented_image = segmented_data.reshape((image.shape))\n",
    "labels_reshape = labels.reshape(image.shape[0], image.shape[1])\n",
    "\n",
    "plt.imshow(segmented_image)"
   ]
  },
  {
   "cell_type": "code",
   "execution_count": null,
   "metadata": {},
   "outputs": [],
   "source": [
    "## TODO: Visualize one segment, try to find which is the leaves, background, etc!\n",
    "# Shows the labels equal to 1\n",
    "plt.imshow(labels_reshape==1, cmap='gray')"
   ]
  },
  {
   "cell_type": "code",
   "execution_count": null,
   "metadata": {},
   "outputs": [],
   "source": [
    "# mask an image segment by cluster\n",
    "\n",
    "cluster = 0 # the first cluster\n",
    "\n",
    "masked_image = np.copy(image)\n",
    "# turn the mask green!\n",
    "masked_image[labels_reshape == cluster] = [0, 255, 0]\n",
    "\n",
    "plt.imshow(masked_image)"
   ]
  }
 ],
 "metadata": {
  "anaconda-cloud": {},
  "kernelspec": {
   "display_name": "Python 3",
   "language": "python",
   "name": "python3"
  },
  "language_info": {
   "codemirror_mode": {
    "name": "ipython",
    "version": 3
   },
   "file_extension": ".py",
   "mimetype": "text/x-python",
   "name": "python",
   "nbconvert_exporter": "python",
   "pygments_lexer": "ipython3",
   "version": "3.6.3"
  }
 },
 "nbformat": 4,
 "nbformat_minor": 1
}