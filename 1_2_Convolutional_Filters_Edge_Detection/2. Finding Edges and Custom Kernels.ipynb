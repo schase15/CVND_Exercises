{
 "cells": [
  {
   "cell_type": "markdown",
   "metadata": {},
   "source": [
    "# Creating a Filter, Edge Detection"
   ]
  },
  {
   "cell_type": "markdown",
   "metadata": {},
   "source": [
    "### Import resources and display image"
   ]
  },
  {
   "cell_type": "code",
   "execution_count": null,
   "metadata": {},
   "outputs": [],
   "source": [
    "import matplotlib.pyplot as plt\n",
    "import matplotlib.image as mpimg\n",
    "\n",
    "import cv2\n",
    "import numpy as np\n",
    "\n",
    "%matplotlib inline\n",
    "\n",
    "# Read in the image\n",
    "image = mpimg.imread('images/curved_lane.jpg')\n",
    "\n",
    "plt.imshow(image)"
   ]
  },
  {
   "cell_type": "markdown",
   "metadata": {},
   "source": [
    "### Convert the image to grayscale"
   ]
  },
  {
   "cell_type": "code",
   "execution_count": null,
   "metadata": {},
   "outputs": [],
   "source": [
    "# Convert to grayscale for filtering\n",
    "gray = cv2.cvtColor(image, cv2.COLOR_RGB2GRAY)\n",
    "\n",
    "plt.imshow(gray, cmap='gray')"
   ]
  },
  {
   "cell_type": "markdown",
   "metadata": {},
   "source": [
    "### TODO: Create a custom kernel\n",
    "\n",
    "Below, you've been given one common type of edge detection filter: a Sobel operator.\n",
    "\n",
    "The Sobel filter is very commonly used in edge detection and in finding patterns in intensity in an image. Applying a Sobel filter to an image is a way of **taking (an approximation) of the derivative of the image** in the x or y direction, separately. The operators look as follows.\n",
    "\n",
    "<img src=\"images/sobel_ops.png\" width=200 height=200>\n",
    "\n",
    "**It's up to you to create a Sobel x operator and apply it to the given image.**\n",
    "\n",
    "For a challenge, see if you can put the image through a series of filters: first one that blurs the image (takes an average of pixels), and then one that detects the edges."
   ]
  },
  {
   "cell_type": "code",
   "execution_count": null,
   "metadata": {},
   "outputs": [],
   "source": [
    "# Create a custom kernel\n",
    "\n",
    "# Detects horizontal edges, compares the pixels above to the pixels below\n",
    "# Corners are weighted slightly less than the pixels directly next to it\n",
    "sobel_y = np.array([[ -1, -2, -1], \n",
    "                   [ 0, 0, 0], \n",
    "                   [ 1, 2, 1]])\n",
    "\n",
    "# Detects vertical edges, compares the pixels to the right against the pixels to the left\n",
    "sobel_x = np.array(\n",
    "                    [-1, 0, 1],\n",
    "                    [-2, 0, 2],\n",
    "                    [-1, 0, 1]\n",
    "                    )\n",
    "\n",
    "\n",
    "# Filter the image using filter2D, which has inputs: (grayscale input image, bit-depth, kernel)\n",
    "# -1 means the output will have the same type as the input image  \n",
    "filtered_image = cv2.filter2D(gray, -1, sobel_y)\n",
    "\n",
    "plt.imshow(filtered_image, cmap='gray')"
   ]
  },
  {
   "source": [
    "### Create Binary Image"
   ],
   "cell_type": "markdown",
   "metadata": {}
  },
  {
   "cell_type": "code",
   "execution_count": null,
   "metadata": {},
   "outputs": [],
   "source": [
    "# Create threshold that sets all the filtered pixels to white\n",
    "# Shows the stronger images clearly\n",
    "\n",
    "# 100 is the low threshold, 255 is the high threshold\n",
    "retval, binary_image = cv2.threshold(filtered_image, 100, 255, cv2.THRESH_BINARY)"
   ]
  },
  {
   "source": [
    "Noise is usually represented as dots or fuzzy details\n",
    "High pass filter can actually exagerate noise in an image\n",
    "We can use low pass filter to blur the image and reduce the noise, then apply high pass to detect only the edges we want."
   ],
   "cell_type": "markdown",
   "metadata": {}
  },
  {
   "cell_type": "markdown",
   "metadata": {},
   "source": [
    "### Test out other filters!\n",
    "\n",
    "You're encouraged to create other kinds of filters and apply them to see what happens! As an **optional exercise**, try the following:\n",
    "* Create a filter with decimal value weights.\n",
    "* Create a 5x5 filter\n",
    "* Apply your filters to the other images in the `images` directory.\n",
    "\n"
   ]
  },
  {
   "cell_type": "code",
   "execution_count": null,
   "metadata": {},
   "outputs": [],
   "source": []
  }
 ],
 "metadata": {
  "anaconda-cloud": {},
  "kernelspec": {
   "display_name": "Python 3",
   "language": "python",
   "name": "python3"
  },
  "language_info": {
   "codemirror_mode": {
    "name": "ipython",
    "version": 3
   },
   "file_extension": ".py",
   "mimetype": "text/x-python",
   "name": "python",
   "nbconvert_exporter": "python",
   "pygments_lexer": "ipython3",
   "version": "3.6.3"
  }
 },
 "nbformat": 4,
 "nbformat_minor": 1
}